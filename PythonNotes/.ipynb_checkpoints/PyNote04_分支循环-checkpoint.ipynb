{
 "cells": [
  {
   "cell_type": "markdown",
   "metadata": {},
   "source": [
    "# 三大结构\n",
    "- 顺序\n",
    "- 分支\n",
    "- 循环"
   ]
  },
  {
   "cell_type": "markdown",
   "metadata": {},
   "source": [
    "## 分支\n",
    "- 分支的基本语法\n",
    "\n",
    "    if 条件表达式:\n",
    "        语句１\n",
    "        语句２\n",
    "        语句３\n",
    "        ．．．．．\n",
    "- 条件表达式就是计算结果必须为布尔值的表达式\n",
    "- 表达式后面的冒号不能少\n",
    "- 注意if后面的出现的语句，如果属于if语句块，则必须同一个锁紧等级\n",
    "- 条件表达式结果为True执行if后面的缩进的语句块"
   ]
  },
  {
   "cell_type": "code",
   "execution_count": 1,
   "metadata": {},
   "outputs": [
    {
     "name": "stdout",
     "output_type": "stream",
     "text": [
      "去叫家长\n"
     ]
    }
   ],
   "source": [
    "# if语句练习\n",
    "# 如果age小于１８岁，则打印信息“去叫家长”\n",
    "age = 17\n",
    "if age <18:\n",
    "    print(\"去叫家长\")"
   ]
  },
  {
   "cell_type": "code",
   "execution_count": 9,
   "metadata": {},
   "outputs": [
    {
     "name": "stdout",
     "output_type": "stream",
     "text": [
      "开始上车咯，老司机们\n"
     ]
    }
   ],
   "source": [
    "# if语句练习\n",
    "# 如果age小于１８岁，则打印信息“去叫家长”\n",
    "age = 19\n",
    "if age <18:\n",
    "    print(\"去叫家长\")\n",
    "print(\"开始上车咯，老司机们\")"
   ]
  },
  {
   "cell_type": "code",
   "execution_count": 11,
   "metadata": {},
   "outputs": [
    {
     "name": "stdout",
     "output_type": "stream",
     "text": [
      "今天学习for循环\n",
      "来，过来写作业\n"
     ]
    }
   ],
   "source": [
    "print(\"今天学习for循环\")\n",
    "gender = \"男\"\n",
    "if gender == \"女\":\n",
    "    print(\"来，叔叔给你糖吃\")\n",
    "print(\"来，过来写作业\")"
   ]
  },
  {
   "cell_type": "markdown",
   "metadata": {},
   "source": [
    "# 双向分支\n",
    "- if...else...语句\n",
    "    if 条件表达式:\n",
    "        语句１\n",
    "        语句２\n",
    "        ．．．\n",
    "    else:\n",
    "        语句１\n",
    "        语句２\n",
    "        ．．．\n",
    "- 双向分支有两个分支，当程序执行到if...else...语句的时候，一定会执行if或else中的一个，也仅执行一个\n",
    "- 缩进问题，if和else一个层级，其余语句一个层级"
   ]
  },
  {
   "cell_type": "code",
   "execution_count": null,
   "metadata": {
    "collapsed": true
   },
   "outputs": [],
   "source": [
    "#input的作用是\n",
    "#1.在屏幕上输出括号内的字幕\n",
    "#2.接受用户输入的内容返回到程序\n",
    "#3.input返回的一定是字符串类型\n",
    "gender = input(\"请输入账号:\")\n",
    "if gender == \"huwei\":\n",
    "    print(\"输入账号正确\")\n",
    "else:\n",
    "    print(\"输入的账号不正确\")\n",
    "print(\"傻逼？\")"
   ]
  },
  {
   "cell_type": "code",
   "execution_count": null,
   "metadata": {
    "collapsed": true
   },
   "outputs": [],
   "source": [
    "# 考试成绩判断\n",
    "# 90及以上:输出优秀\n",
    "# 80-90:良\n",
    "# 70-80:中\n",
    "# 60-70:平\n",
    "# 60一下:输出我没你这个学生\n",
    "# score 存放学生成绩\n",
    "score = int(input(\"请输入学生成绩：\"))\n",
    "if score >= 90:\n",
    "    print(\"优秀\")\n",
    "if score >= 80 and score<90:\n",
    "    print(\"良\")\n",
    "if score >= 70 and score<80:\n",
    "    print(\"中\")\n",
    "if score >= 60 and score<70:\n",
    "    print(\"平\")\n",
    "if score < 60:\n",
    "    print(\"%s分?，你这个猪我没有你这样的学生\"%score)"
   ]
  },
  {
   "cell_type": "markdown",
   "metadata": {},
   "source": [
    "## 多路分支\n",
    "- 很多分支的情况，简称多路分支\n",
    "    \n",
    "            if　条件表达式：\n",
    "                语句１\n",
    "                ．．．\n",
    "            elif 条件表达式：\n",
    "                语句１\n",
    "                ．．．\n",
    "            elif 条件表达式：\n",
    "                语句１\n",
    "                ．．．\n",
    "                       \n",
    "            ．．．．\n",
    "            else:\n",
    "                语句１\n",
    "                ．．．\n",
    "- elif　可以很多个\n",
    "- else 可选\n",
    "- 多路分支只会一个执行"
   ]
  },
  {
   "cell_type": "code",
   "execution_count": 2,
   "metadata": {},
   "outputs": [
    {
     "name": "stdout",
     "output_type": "stream",
     "text": [
      "请输入学生成绩：45\n",
      "45分?，你这个猪我没有你这样的学生\n"
     ]
    }
   ],
   "source": [
    "# 考试成绩判断\n",
    "# 90及以上:输出优秀\n",
    "# 80-90:良\n",
    "# 70-80:中\n",
    "# 60-70:平\n",
    "# 60一下:输出我没你这个学生\n",
    "# score 存放学生成绩\n",
    "score = int(input(\"请输入学生成绩：\"))\n",
    "if score >= 90:\n",
    "    print(\"优秀\")\n",
    "elif score >= 80:\n",
    "    print(\"良\")\n",
    "elif score >= 70:\n",
    "    print(\"中\")\n",
    "elif score >= 60:\n",
    "    print(\"平\")\n",
    "elif score < 60:\n",
    "    print(\"%s分?，你这个猪我没有你这样的学生\"%score)"
   ]
  },
  {
   "cell_type": "markdown",
   "metadata": {
    "collapsed": true
   },
   "source": [
    "## if语句其他:\n",
    "- if语句可以嵌套使用，但不推荐\n",
    "- python没有switch-case语句"
   ]
  },
  {
   "cell_type": "markdown",
   "metadata": {},
   "source": [
    "# 循环语句\n",
    "- 重复执行某些固定的动作或者处理基本固定的事物\n",
    "- 分类\n",
    "    - for 循环\n",
    "    - while 循环\n",
    "## for循环\n",
    "- for 循环\n",
    "\n",
    "        for 变量　in 序列：\n",
    "            语句１\n",
    "            语句２\n",
    "            ．．．"
   ]
  },
  {
   "cell_type": "code",
   "execution_count": 9,
   "metadata": {},
   "outputs": [
    {
     "name": "stdout",
     "output_type": "stream",
     "text": [
      "jingjing\n",
      "wangwu\n",
      "lisi\n",
      "zhangsan\n"
     ]
    }
   ],
   "source": [
    "# 列表就是一列数字或者其他的值，一般用中括号表示\n",
    "# 例如 {'zhangsan','lisi','wangwu'}\n",
    "# 打印学生列表姓名\n",
    "for name in {'zhangsan','lisi','wangwu','jingjing'}:\n",
    "    print(name)"
   ]
  },
  {
   "cell_type": "code",
   "execution_count": 13,
   "metadata": {},
   "outputs": [
    {
     "name": "stdout",
     "output_type": "stream",
     "text": [
      "jingjing\n",
      "我的最爱jingjing出现了\n",
      "wangwu\n",
      "同学我们不约，不约，同学请自重\n",
      "lisi\n",
      "同学我们不约，不约，同学请自重\n",
      "zhangsan\n",
      "同学我们不约，不约，同学请自重\n"
     ]
    }
   ],
   "source": [
    "# 打印学生列表姓名\n",
    "# 如果是jingjing，那肯定是我的最爱呀，\n",
    "# 如果是别的学生，要冷库的拒绝他\n",
    "for name in {'zhangsan','lisi','wangwu','jingjing'}:\n",
    "    print(name)\n",
    "    if name == 'jingjing':\n",
    "        print(\"我的最爱{0}出现了\".format(name))\n",
    "    else:\n",
    "        print(\"同学我们不约，不约，同学请自重\")"
   ]
  },
  {
   "cell_type": "markdown",
   "metadata": {},
   "source": [
    "## range介绍\n",
    "- 生成一个数字序列\n",
    "- 具体范围可以设定"
   ]
  },
  {
   "cell_type": "code",
   "execution_count": 26,
   "metadata": {},
   "outputs": [
    {
     "name": "stdout",
     "output_type": "stream",
     "text": [
      "1\n",
      "2\n",
      "3\n",
      "4\n",
      "5\n",
      "6\n",
      "7\n",
      "8\n",
      "9\n",
      "10\n"
     ]
    }
   ],
   "source": [
    "# range练习\n",
    "# 打印从1-100的数字\n",
    "# 注意，一般在python中，如果由表示数字范围的两个数，一般是包含左边不包含右边\n",
    "# randint是特例，他左右都包括\n",
    "# range函数在python2　和python3 中有严重的区别\n",
    "for i in range(1,11):\n",
    "    print(i)"
   ]
  },
  {
   "cell_type": "markdown",
   "metadata": {},
   "source": [
    "## for-else语句\n",
    "- 当for循环结束的时候，会执行else语句\n",
    "- else语句是可选语句"
   ]
  },
  {
   "cell_type": "code",
   "execution_count": 28,
   "metadata": {},
   "outputs": [
    {
     "name": "stdout",
     "output_type": "stream",
     "text": [
      "jingjing\n",
      "我的最爱jingjing出现了\n",
      "wangwu\n",
      "同学我们不约，不约，同学请自重\n",
      "lisi\n",
      "同学我们不约，不约，同学请自重\n",
      "zhangsan\n",
      "同学我们不约，不约，同学请自重\n",
      "别的都不是我的学生，不会再爱了\n"
     ]
    }
   ],
   "source": [
    "# for-else语句\n",
    "# 打印列表中的同学\n",
    "# 如果没有在列表中或者列表结束了，我们需要打印的提示语句，表示不再爱了\n",
    "\n",
    "# 打印学生列表姓名\n",
    "# 如果是jingjing，那肯定是我的最爱呀，\n",
    "# 如果是别的学生，要冷库的拒绝他\n",
    "for name in {'zhangsan','lisi','wangwu','jingjing'}:\n",
    "    print(name)\n",
    "    if name == 'jingjing':\n",
    "        print(\"我的最爱{0}出现了\".format(name))\n",
    "    else:\n",
    "        print(\"同学我们不约，不约，同学请自重\")\n",
    "else:\n",
    "    print(\"别的都不是我的学生，不会再爱了\")"
   ]
  },
  {
   "cell_type": "markdown",
   "metadata": {},
   "source": [
    "## for循环之break，continue，pass\n",
    "- break：无条件结束整个循环，简称循环猝死\n",
    "- continue：无条件结束本次循环，从新进入下一轮循环\n",
    "- pass：表示略过，通常用于占位"
   ]
  },
  {
   "cell_type": "code",
   "execution_count": 39,
   "metadata": {},
   "outputs": [
    {
     "name": "stdout",
     "output_type": "stream",
     "text": [
      "1\n",
      "2\n",
      "3\n",
      "4\n",
      "5\n",
      "6\n",
      "我找到了\n"
     ]
    }
   ],
   "source": [
    "# 在数字1-10中，寻找数字7，一旦找到，打印出来，其余则什么都不做\n",
    "# for循环中的变量表示，一般用i，k，m，n，或者indx，idx，item之类的 \n",
    "# 在python中，如果循环变量名称不重要，可以用下划线（_）代替\n",
    "for i in range(1,11):\n",
    "    if i ==7:\n",
    "        print(\"我找到了\")\n",
    "        break\n",
    "    else:\n",
    "        print(i)"
   ]
  },
  {
   "cell_type": "code",
   "execution_count": 45,
   "metadata": {},
   "outputs": [
    {
     "name": "stdout",
     "output_type": "stream",
     "text": [
      "2是偶数\n",
      "4是偶数\n",
      "6是偶数\n",
      "8是偶数\n",
      "10是偶数\n"
     ]
    }
   ],
   "source": [
    "# continue语句练习\n",
    "# 在数字1-10中，寻找所有偶数\n",
    "for i in range(1,11):\n",
    "    if i % 2 ==1:\n",
    "        continue\n",
    "    else:\n",
    "        print(\"{0}是偶数\".format(i))"
   ]
  },
  {
   "cell_type": "code",
   "execution_count": 50,
   "metadata": {},
   "outputs": [
    {
     "name": "stdout",
     "output_type": "stream",
     "text": [
      "2是偶数\n",
      "4是偶数\n",
      "6是偶数\n",
      "8是偶数\n",
      "10是偶数\n"
     ]
    }
   ],
   "source": [
    "# continue语句练习\n",
    "# 在数字1-10中，寻找所有偶数\n",
    "for i in range(1,11):\n",
    "    if i % 2 ==0:\n",
    "        print(\"{0}是偶数\".format(i))"
   ]
  },
  {
   "cell_type": "code",
   "execution_count": 52,
   "metadata": {},
   "outputs": [
    {
     "name": "stdout",
     "output_type": "stream",
     "text": [
      "2是偶数\n",
      "4是偶数\n",
      "6是偶数\n",
      "8是偶数\n",
      "10是偶数\n"
     ]
    }
   ],
   "source": [
    "# continue语句练习\n",
    "# 在数字1-10中，寻找所有偶数\n",
    "# 本案例完整的显示continue的用法和作用\n",
    "for i in range(1,11):\n",
    "    if i % 2 ==1:\n",
    "        continue\n",
    "    print(\"{0}是偶数\".format(i))"
   ]
  },
  {
   "cell_type": "code",
   "execution_count": 2,
   "metadata": {
    "collapsed": true
   },
   "outputs": [],
   "source": [
    "# pass例子，一般用于站位\n",
    "for i in range(1,11):\n",
    "    pass"
   ]
  }
 ],
 "metadata": {
  "kernelspec": {
   "display_name": "Python 3",
   "language": "python",
   "name": "python3"
  },
  "language_info": {
   "codemirror_mode": {
    "name": "ipython",
    "version": 3
   },
   "file_extension": ".py",
   "mimetype": "text/x-python",
   "name": "python",
   "nbconvert_exporter": "python",
   "pygments_lexer": "ipython3",
   "version": "3.6.3"
  }
 },
 "nbformat": 4,
 "nbformat_minor": 2
}
