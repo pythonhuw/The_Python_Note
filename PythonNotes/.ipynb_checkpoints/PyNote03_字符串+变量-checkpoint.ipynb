{
 "cells": [
  {
   "cell_type": "markdown",
   "metadata": {
    "collapsed": true
   },
   "source": [
    "# 字符串\n",
    "- 转义字符\n",
    "- 格式化\n",
    "- 内建函数\n",
    "\n",
    "## 转义字符\n",
    "- 用一个特殊的方法表示出一系列不方便写出来的内容，比如回车键，换行符，退格键\n",
    "- 借助反斜杠字符，一单字符串中出现反斜杠，策反斜杠后面一个或几个字符表示已经不是原来的意思了，进行了转义\n",
    "- 在字符串中，一旦出现反斜杠就要加倍小心，可能有转义字符出现\n",
    "- 不同的操作系统换行符有不同的表示差异\n",
    "    - Windows: \\n\n",
    "    - Linux: \\r\\n"
   ]
  },
  {
   "cell_type": "code",
   "execution_count": 9,
   "metadata": {},
   "outputs": [
    {
     "name": "stdout",
     "output_type": "stream",
     "text": [
      "i love python\n"
     ]
    }
   ],
   "source": [
    "s = \"i love python\"\n",
    "print(s)"
   ]
  },
  {
   "cell_type": "code",
   "execution_count": 16,
   "metadata": {},
   "outputs": [
    {
     "name": "stdout",
     "output_type": "stream",
     "text": [
      "let's go\n",
      "let's go\n",
      "c:\\user\n",
      "i love \r\n",
      " python\n"
     ]
    }
   ],
   "source": [
    "# 如果想表示出let's go来\n",
    "# 1.可以使用嵌套引号，既外层使用双引号\n",
    "# 2.转义字符\n",
    "s = \"let's go\"\n",
    "print(s)\n",
    "\n",
    "ss = 'let\\'s go'\n",
    "print(ss)\n",
    "\n",
    "sss = 'c:\\\\user'\n",
    "print(sss)\n",
    "\n",
    "# 回车换行符\n",
    "s1 = \"i love \\r\\n python\"\n",
    "print(s1)"
   ]
  },
  {
   "cell_type": "markdown",
   "metadata": {
    "collapsed": true
   },
   "source": [
    "## 字符串的格式发\n",
    "- 把字符串按照一定格式打印或者填充\n",
    "- 格式化由两种方法\n",
    "    - 利用百分号（％）\n",
    "    - 利用format函数"
   ]
  },
  {
   "cell_type": "code",
   "execution_count": 17,
   "metadata": {
    "collapsed": true
   },
   "outputs": [],
   "source": [
    "s = \"xxx 您好，\""
   ]
  },
  {
   "cell_type": "markdown",
   "metadata": {},
   "source": [
    "### 利用百分号格式化\n",
    "- 在字符串中，利用%表示一个特殊含义，表示对字符串进行格式化输出\n",
    "- %d:表示此处应该放入一个整数\n",
    "- %s:表示此处应该放入一个字符串"
   ]
  },
  {
   "cell_type": "code",
   "execution_count": 21,
   "metadata": {},
   "outputs": [
    {
     "name": "stdout",
     "output_type": "stream",
     "text": [
      "i love %s\n"
     ]
    }
   ],
   "source": [
    "s = \"i love %s\"\n",
    "# 下面打印，直接把%s作为一个字符串打印出来了\n",
    "print(s)"
   ]
  },
  {
   "cell_type": "code",
   "execution_count": 23,
   "metadata": {},
   "outputs": [
    {
     "name": "stdout",
     "output_type": "stream",
     "text": [
      "i love python\n"
     ]
    }
   ],
   "source": [
    "print(\"I love %s\" %\"python\")"
   ]
  },
  {
   "cell_type": "code",
   "execution_count": 26,
   "metadata": {},
   "outputs": [
    {
     "name": "stdout",
     "output_type": "stream",
     "text": [
      "i love python\n"
     ]
    }
   ],
   "source": [
    "print(s%\"python\")"
   ]
  },
  {
   "cell_type": "code",
   "execution_count": 32,
   "metadata": {},
   "outputs": [
    {
     "name": "stdout",
     "output_type": "stream",
     "text": [
      "I am %s this year.\n",
      "I am 18 this year.\n"
     ]
    }
   ],
   "source": [
    "s = \"I am %s this year.\"\n",
    "# 留意下面两句话的输出结果\n",
    "print(s)\n",
    "print(s%18)"
   ]
  },
  {
   "cell_type": "code",
   "execution_count": 36,
   "metadata": {},
   "outputs": [
    {
     "name": "stdout",
     "output_type": "stream",
     "text": [
      "I am %s,I am %d this year.\n",
      "I am huwei,I am 18 this year.\n"
     ]
    }
   ],
   "source": [
    "s = \"I am %s,I am %d this year.\"\n",
    "print(s)\n",
    "print(s%(\"huwei\",18))"
   ]
  },
  {
   "cell_type": "markdown",
   "metadata": {},
   "source": [
    "### format函数格式化字符串\n",
    "- 直接用format函数进行格式化\n",
    "- 推荐使用这种方法\n",
    "- 在使用上，以{}和:代替％号，后面用format带参数完成"
   ]
  },
  {
   "cell_type": "code",
   "execution_count": 46,
   "metadata": {},
   "outputs": [
    {
     "name": "stdout",
     "output_type": "stream",
     "text": [
      "I love python\n",
      "我叫胡炜,我今年18了，我来自湖南,很高兴认识大家\n"
     ]
    }
   ],
   "source": [
    "s = \"I love {}\".format(\"python\")\n",
    "print(s)\n",
    "s = \"我叫{0},我今年{1}了，我来自{2},很高兴认识大家\".format(\"胡炜\",18,\"湖南\")\n",
    "print(s)"
   ]
  },
  {
   "cell_type": "markdown",
   "metadata": {},
   "source": [
    "## None\n",
    "- 表示什么都没有\n",
    "- 如果函数没有返回值，可以返回None\n",
    "- 用来占位置\n",
    "- 用来接触变量绑定"
   ]
  },
  {
   "cell_type": "markdown",
   "metadata": {},
   "source": [
    "# 表达式\n",
    "- 由一个或者几个数字或者变量和运算符组合成的一行代码\n",
    "- 用于运算的符号叫做运算符\n",
    "- 运算符分类:\n",
    "    - 算数运算符\n",
    "    - 比较或者关系运算符\n",
    "    - 赋值运算符\n",
    "    - 位运算\n",
    "    - 成员运算符\n",
    "    - 身份运算符"
   ]
  },
  {
   "cell_type": "markdown",
   "metadata": {},
   "source": [
    "## 算数运算符\n",
    "- 进行算数运算的符号\n",
    "- Python没有自增自减运算符"
   ]
  },
  {
   "cell_type": "code",
   "execution_count": 53,
   "metadata": {},
   "outputs": [
    {
     "name": "stdout",
     "output_type": "stream",
     "text": [
      "10\n",
      "36\n",
      "2.25\n",
      "1\n",
      "2\n",
      "6561\n"
     ]
    }
   ],
   "source": [
    "# +,-跟正常运算符一模一样\n",
    "a = 9+3-2\n",
    "print(a)\n",
    "# 乘号用(*)代替\n",
    "a = 9*4\n",
    "print(a)\n",
    "# 除号用(/)代替\n",
    "a = 9/4\n",
    "print(a)\n",
    "\n",
    "# %取于运算\n",
    "# 两个数字相除应该有商数有余数\n",
    "# %只会得到余数\n",
    "a = 9%4\n",
    "print(a)\n",
    "\n",
    "# //表示取商运算，也叫地板除\n",
    "a = 9//4\n",
    "print(a)\n",
    "\n",
    "# **表示幂运算\n",
    "a = 9**4\n",
    "print(a)"
   ]
  },
  {
   "cell_type": "markdown",
   "metadata": {},
   "source": [
    "## 比较运算符\n",
    "- 对两个变量进行比较的运算符\n",
    "- 比较的结果是布尔值，既True,False"
   ]
  },
  {
   "cell_type": "code",
   "execution_count": 57,
   "metadata": {},
   "outputs": [
    {
     "name": "stdout",
     "output_type": "stream",
     "text": [
      "False\n",
      "True\n"
     ]
    }
   ],
   "source": [
    "# ==,等于号\n",
    "a = 3**4\n",
    "b = a == 80\n",
    "print(b)\n",
    "\n",
    "# !=不等于\n",
    "print(9 != 8)\n",
    "\n",
    "# >大于\n",
    "# <小于\n",
    "# >=大于等于\n",
    "# <=小于等于"
   ]
  },
  {
   "cell_type": "markdown",
   "metadata": {},
   "source": [
    "## 赋值运算符\n"
   ]
  },
  {
   "cell_type": "code",
   "execution_count": 59,
   "metadata": {},
   "outputs": [
    {
     "name": "stdout",
     "output_type": "stream",
     "text": [
      "7\n"
     ]
    }
   ],
   "source": [
    "#=:赋值运算符\n",
    "a = 0\n",
    "c = a = 4\n",
    "\n",
    "# +=,是缩写\n",
    "a = 0\n",
    "a += 7 # a = a + 7\n",
    "print(a)\n",
    "\n",
    "# 所有的数学运算符都有缩写形式\n",
    "# -=,*=,/=,//=,%=,**=,都是缩写形式"
   ]
  },
  {
   "cell_type": "markdown",
   "metadata": {},
   "source": [
    "# 逻辑运算符\n",
    "- 对布尔值进行计算的符号\n",
    "- and 逻辑与\n",
    "- or 逻辑或\n",
    "- not　逻辑非\n",
    "- Python中逻辑运算没有异或运算\n",
    "- 运算规则：\n",
    "    - and看做乘法，or看做加法\n",
    "    - True看做1,False看做0\n",
    "    - 则逻辑运算符就能转成整数数学运算\n",
    "    - 最后结果如果是0则为False,否则为True\n",
    "- 逻辑运算的短路问题\n",
    "    - 逻辑运算式，按照运算顺序计算，一旦能够确定整个式子未来的值，则不再进行计算，直接返回"
   ]
  },
  {
   "cell_type": "code",
   "execution_count": 62,
   "metadata": {},
   "outputs": [
    {
     "name": "stdout",
     "output_type": "stream",
     "text": [
      "True\n",
      "True\n"
     ]
    }
   ],
   "source": [
    "# 逻辑运算\n",
    "a = True\n",
    "b = False\n",
    "c = True\n",
    "# d = 1 * 0 + 1\n",
    "d = a and b or c\n",
    "print(d)\n",
    "\n",
    "d = a or b and c\n",
    "print(d)"
   ]
  },
  {
   "cell_type": "code",
   "execution_count": 63,
   "metadata": {
    "collapsed": true
   },
   "outputs": [],
   "source": [
    "# 短路案例\n",
    "a = True or xxxxxxxx\n"
   ]
  },
  {
   "cell_type": "markdown",
   "metadata": {},
   "source": [
    "# 成员运算符\n",
    "- 用来检测某一个变量是否是另一个变量的成员\n",
    "- in \n",
    "- not in "
   ]
  },
  {
   "cell_type": "code",
   "execution_count": 67,
   "metadata": {},
   "outputs": [
    {
     "name": "stdout",
     "output_type": "stream",
     "text": [
      "False\n",
      "True\n",
      "False\n"
     ]
    }
   ],
   "source": [
    "# 案例\n",
    "l = [1,2,3,4,5]\n",
    "a = 7\n",
    "b = a in l\n",
    "print(b)\n",
    "\n",
    "a = 4\n",
    "print(a in l)\n",
    "print(a not in l)"
   ]
  },
  {
   "cell_type": "markdown",
   "metadata": {},
   "source": [
    "## 身份运算\n",
    "- is:用来检测两个变量是否是同一个变量\n",
    "    - 语法就是　var1 is var2\n",
    "- is not:两个变量不是同一个变量\n",
    "    - 语法就是　var1 is not var2"
   ]
  },
  {
   "cell_type": "code",
   "execution_count": 75,
   "metadata": {},
   "outputs": [
    {
     "name": "stdout",
     "output_type": "stream",
     "text": [
      "True\n",
      "False\n"
     ]
    }
   ],
   "source": [
    "a = 9\n",
    "b = 9\n",
    "print( a is b )\n",
    "\n",
    "a = \"python aaaaa\"\n",
    "b = \"python aaaaa\"\n",
    "print( a is b )"
   ]
  },
  {
   "cell_type": "markdown",
   "metadata": {},
   "source": [
    "## 运算符的优先级问题\n",
    "- 永远记住()具有最高优先级\n",
    "- 优先级表格\n",
    "\n",
    "\n",
    "\n",
    "        【假装此处有表格】\n",
    "        \n",
    "        \n",
    "        \n",
    "        \n",
    "        "
   ]
  },
  {
   "cell_type": "markdown",
   "metadata": {},
   "source": [
    "# 程序结构\n",
    "- 顺序\n",
    "- 分支\n",
    "- 循环"
   ]
  }
 ],
 "metadata": {
  "kernelspec": {
   "display_name": "Python 3",
   "language": "python",
   "name": "python3"
  },
  "language_info": {
   "codemirror_mode": {
    "name": "ipython",
    "version": 3
   },
   "file_extension": ".py",
   "mimetype": "text/x-python",
   "name": "python",
   "nbconvert_exporter": "python",
   "pygments_lexer": "ipython3",
   "version": "3.6.3"
  }
 },
 "nbformat": 4,
 "nbformat_minor": 2
}
